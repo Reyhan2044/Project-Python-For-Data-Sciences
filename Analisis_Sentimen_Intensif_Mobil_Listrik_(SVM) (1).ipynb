{
  "metadata": {
    "kernelspec": {
      "language": "python",
      "display_name": "Python 3",
      "name": "python3"
    },
    "language_info": {
      "pygments_lexer": "ipython3",
      "nbconvert_exporter": "python",
      "version": "3.6.4",
      "file_extension": ".py",
      "codemirror_mode": {
        "name": "ipython",
        "version": 3
      },
      "name": "python",
      "mimetype": "text/x-python"
    },
    "colab": {
      "name": "Analisis Sentimen Intensif Mobil Listrik (SVM)",
      "provenance": []
    }
  },
  "nbformat_minor": 0,
  "nbformat": 4,
  "cells": [
    {
      "source": [
        "\n",
        "# IMPORTANT: RUN THIS CELL IN ORDER TO IMPORT YOUR KAGGLE DATA SOURCES\n",
        "# TO THE CORRECT LOCATION (/kaggle/input) IN YOUR NOTEBOOK,\n",
        "# THEN FEEL FREE TO DELETE THIS CELL.\n",
        "# NOTE: THIS NOTEBOOK ENVIRONMENT DIFFERS FROM KAGGLE'S PYTHON\n",
        "# ENVIRONMENT SO THERE MAY BE MISSING LIBRARIES USED BY YOUR\n",
        "# NOTEBOOK.\n",
        "\n",
        "import os\n",
        "import sys\n",
        "from tempfile import NamedTemporaryFile\n",
        "from urllib.request import urlopen\n",
        "from urllib.parse import unquote, urlparse\n",
        "from urllib.error import HTTPError\n",
        "from zipfile import ZipFile\n",
        "import tarfile\n",
        "import shutil\n",
        "\n",
        "CHUNK_SIZE = 40960\n",
        "DATA_SOURCE_MAPPING = 'analisis-sentimen-terkait-intensif-mobil-listrik:https%3A%2F%2Fstorage.googleapis.com%2Fkaggle-data-sets%2F3598426%2F6260824%2Fbundle%2Farchive.zip%3FX-Goog-Algorithm%3DGOOG4-RSA-SHA256%26X-Goog-Credential%3Dgcp-kaggle-com%2540kaggle-161607.iam.gserviceaccount.com%252F20240317%252Fauto%252Fstorage%252Fgoog4_request%26X-Goog-Date%3D20240317T150921Z%26X-Goog-Expires%3D259200%26X-Goog-SignedHeaders%3Dhost%26X-Goog-Signature%3D146bdb09e4cee2558a6f37f14a2915bdf5d1f0b81a5cdcb56c93ec7103fab96c5165b802a7d795b34055bd6c50b6247baff2992f7a279a23db90fd17f6b16b67d8050cb53d485d5471f6103d72cf8bb36441ce35dc0a5a47fd0dc9fd95a9b86ace82dd0886be8061cd56a2a090786eb9befd3c80c22a432addcd935954fae408fa257b4c554a8d0f1b31da9564253ce8fbc2b9dc29e00209bea20b35f1b661415dfc48ee2fa001102d8d1913971b37e769ac9209f5b8f6d99bbd4019be73c5b231524a4121e759b04ee07b73a21ead71c5a6cb8a1b9a31ea704a876bdb49b7c72d5fe370402ad6134515b5f05ad2075be9b33fcb3451d2edeae294235fe027c0'\n",
        "\n",
        "KAGGLE_INPUT_PATH='/kaggle/input'\n",
        "KAGGLE_WORKING_PATH='/kaggle/working'\n",
        "KAGGLE_SYMLINK='kaggle'\n",
        "\n",
        "!umount /kaggle/input/ 2> /dev/null\n",
        "shutil.rmtree('/kaggle/input', ignore_errors=True)\n",
        "os.makedirs(KAGGLE_INPUT_PATH, 0o777, exist_ok=True)\n",
        "os.makedirs(KAGGLE_WORKING_PATH, 0o777, exist_ok=True)\n",
        "\n",
        "try:\n",
        "  os.symlink(KAGGLE_INPUT_PATH, os.path.join(\"..\", 'input'), target_is_directory=True)\n",
        "except FileExistsError:\n",
        "  pass\n",
        "try:\n",
        "  os.symlink(KAGGLE_WORKING_PATH, os.path.join(\"..\", 'working'), target_is_directory=True)\n",
        "except FileExistsError:\n",
        "  pass\n",
        "\n",
        "for data_source_mapping in DATA_SOURCE_MAPPING.split(','):\n",
        "    directory, download_url_encoded = data_source_mapping.split(':')\n",
        "    download_url = unquote(download_url_encoded)\n",
        "    filename = urlparse(download_url).path\n",
        "    destination_path = os.path.join(KAGGLE_INPUT_PATH, directory)\n",
        "    try:\n",
        "        with urlopen(download_url) as fileres, NamedTemporaryFile() as tfile:\n",
        "            total_length = fileres.headers['content-length']\n",
        "            print(f'Downloading {directory}, {total_length} bytes compressed')\n",
        "            dl = 0\n",
        "            data = fileres.read(CHUNK_SIZE)\n",
        "            while len(data) > 0:\n",
        "                dl += len(data)\n",
        "                tfile.write(data)\n",
        "                done = int(50 * dl / int(total_length))\n",
        "                sys.stdout.write(f\"\\r[{'=' * done}{' ' * (50-done)}] {dl} bytes downloaded\")\n",
        "                sys.stdout.flush()\n",
        "                data = fileres.read(CHUNK_SIZE)\n",
        "            if filename.endswith('.zip'):\n",
        "              with ZipFile(tfile) as zfile:\n",
        "                zfile.extractall(destination_path)\n",
        "            else:\n",
        "              with tarfile.open(tfile.name) as tarfile:\n",
        "                tarfile.extractall(destination_path)\n",
        "            print(f'\\nDownloaded and uncompressed: {directory}')\n",
        "    except HTTPError as e:\n",
        "        print(f'Failed to load (likely expired) {download_url} to path {destination_path}')\n",
        "        continue\n",
        "    except OSError as e:\n",
        "        print(f'Failed to load {download_url} to path {destination_path}')\n",
        "        continue\n",
        "\n",
        "print('Data source import complete.')\n"
      ],
      "metadata": {
        "id": "UOn8cJf99d0D"
      },
      "cell_type": "code",
      "outputs": [],
      "execution_count": null
    },
    {
      "cell_type": "markdown",
      "source": [
        "# Import Dataset"
      ],
      "metadata": {
        "id": "Y_s7uGyf9d0G"
      }
    },
    {
      "cell_type": "code",
      "source": [
        "import pandas as pd\n",
        "import matplotlib.pyplot as plt"
      ],
      "metadata": {
        "execution": {
          "iopub.status.busy": "2023-08-07T04:14:02.929217Z",
          "iopub.execute_input": "2023-08-07T04:14:02.929561Z",
          "iopub.status.idle": "2023-08-07T04:14:02.942141Z",
          "shell.execute_reply.started": "2023-08-07T04:14:02.929528Z",
          "shell.execute_reply": "2023-08-07T04:14:02.940082Z"
        },
        "trusted": true,
        "id": "ujMBYWmT9d0H"
      },
      "execution_count": null,
      "outputs": []
    },
    {
      "cell_type": "code",
      "source": [
        "df = pd.read_csv(\"/kaggle/input/analisis-sentimen-terkait-intensif-mobil-listrik/mobil_listrik.csv\")"
      ],
      "metadata": {
        "execution": {
          "iopub.status.busy": "2023-08-07T04:14:02.976112Z",
          "iopub.execute_input": "2023-08-07T04:14:02.977371Z",
          "iopub.status.idle": "2023-08-07T04:14:02.994199Z",
          "shell.execute_reply.started": "2023-08-07T04:14:02.977339Z",
          "shell.execute_reply": "2023-08-07T04:14:02.992297Z"
        },
        "trusted": true,
        "id": "d2J90g2Z9d0H"
      },
      "execution_count": null,
      "outputs": []
    },
    {
      "cell_type": "code",
      "source": [
        "df.head()"
      ],
      "metadata": {
        "execution": {
          "iopub.status.busy": "2023-08-07T04:14:02.996569Z",
          "iopub.execute_input": "2023-08-07T04:14:02.997144Z",
          "iopub.status.idle": "2023-08-07T04:14:03.012011Z",
          "shell.execute_reply.started": "2023-08-07T04:14:02.997116Z",
          "shell.execute_reply": "2023-08-07T04:14:03.010453Z"
        },
        "trusted": true,
        "id": "Aq8QziZZ9d0H"
      },
      "execution_count": null,
      "outputs": []
    },
    {
      "cell_type": "markdown",
      "source": [
        "# Visualisasi"
      ],
      "metadata": {
        "id": "AGpfj5Jd9d0I"
      }
    },
    {
      "cell_type": "markdown",
      "source": [
        "### Pie Chart"
      ],
      "metadata": {
        "id": "TdgJKbcg9d0I"
      }
    },
    {
      "cell_type": "code",
      "source": [
        "# Menghitung jumlah sentimen positif, negatif, dan netral\n",
        "positif_count = df[df['sentimen'] == 'positif'].shape[0]\n",
        "negatif_count = df[df['sentimen'] == 'negatif'].shape[0]\n",
        "netral_count = df[df['sentimen'] == 'netral'].shape[0]\n",
        "\n",
        "# Menyusun data sentimen dan label\n",
        "sentimen = [positif_count, negatif_count, netral_count]\n",
        "labels = ['Positif', 'Negatif', 'Netral']\n",
        "\n",
        "# Menentukan warna untuk setiap sektor\n",
        "colors = ['#55a868', '#c44e52', '#4c72b0']\n",
        "\n",
        "# Membuat Pie Chart\n",
        "plt.pie(sentimen, labels=labels, colors=colors, autopct='%1.1f%%', startangle=90)\n",
        "\n",
        "# Menambahkan judul\n",
        "plt.title('Persentase Sentimen')\n",
        "\n",
        "# Menampilkan Pie Chart\n",
        "plt.axis('equal')\n",
        "plt.show()"
      ],
      "metadata": {
        "execution": {
          "iopub.status.busy": "2023-08-07T04:14:03.014051Z",
          "iopub.execute_input": "2023-08-07T04:14:03.015116Z",
          "iopub.status.idle": "2023-08-07T04:14:03.137176Z",
          "shell.execute_reply.started": "2023-08-07T04:14:03.015082Z",
          "shell.execute_reply": "2023-08-07T04:14:03.135958Z"
        },
        "trusted": true,
        "id": "vJJKgT0A9d0I"
      },
      "execution_count": null,
      "outputs": []
    },
    {
      "cell_type": "markdown",
      "source": [
        "Dapat dilihat bahwa isi komentar lebih banyak pada label sentimen negatif. Ini berarti bahwa banyak masyarakat yang merasa tidak setuju atau tidak mendukung adanya pemberlakukan intensif mobil listrik di Indonesia."
      ],
      "metadata": {
        "id": "diO-rmgO9d0I"
      }
    },
    {
      "cell_type": "markdown",
      "source": [
        "### Wordcloud"
      ],
      "metadata": {
        "id": "GDHQ57RA9d0J"
      }
    },
    {
      "cell_type": "code",
      "source": [
        "from wordcloud import WordCloud"
      ],
      "metadata": {
        "execution": {
          "iopub.status.busy": "2023-08-07T04:14:03.138748Z",
          "iopub.execute_input": "2023-08-07T04:14:03.139083Z",
          "iopub.status.idle": "2023-08-07T04:14:03.152746Z",
          "shell.execute_reply.started": "2023-08-07T04:14:03.139055Z",
          "shell.execute_reply": "2023-08-07T04:14:03.151584Z"
        },
        "trusted": true,
        "id": "oYVPrT-b9d0J"
      },
      "execution_count": null,
      "outputs": []
    },
    {
      "cell_type": "code",
      "source": [
        "# Mengganti nilai NaN dengan string kosong ('') pada kolom \"text_cleaning\"\n",
        "df['text_cleaning'] = df['text_cleaning'].fillna('')\n",
        "\n",
        "# Membuat subset data untuk tiap kategori sentimen\n",
        "df_neutral = df[df['sentimen'] == 'netral']\n",
        "df_negative = df[df['sentimen'] == 'negatif']\n",
        "df_positive = df[df['sentimen'] == 'positif']\n",
        "\n",
        "# Menggabungkan semua kata dalam kolom \"text_cleaning\" untuk tiap kategori sentimen\n",
        "text_neutral = ' '.join(df_neutral['text_cleaning'])\n",
        "text_negative = ' '.join(df_negative['text_cleaning'])\n",
        "text_positive = ' '.join(df_positive['text_cleaning'])\n",
        "\n",
        "# Membuat objek WordCloud untuk tiap kategori sentimen\n",
        "wordcloud_neutral = WordCloud(width=800, height=400).generate(text_neutral)\n",
        "wordcloud_negative = WordCloud(width=800, height=400).generate(text_negative)\n",
        "wordcloud_positive = WordCloud(width=800, height=400).generate(text_positive)\n",
        "\n",
        "# Menampilkan wordcloud untuk tiap kategori sentimen secara terpisah\n",
        "plt.figure(figsize=(8, 4))\n",
        "plt.imshow(wordcloud_neutral, interpolation='bilinear')\n",
        "plt.title('Wordcloud - Sentimen Netral')\n",
        "plt.axis('off')\n",
        "plt.show()\n",
        "\n",
        "plt.figure(figsize=(8, 4))\n",
        "plt.imshow(wordcloud_negative, interpolation='bilinear')\n",
        "plt.title('Wordcloud - Sentimen Negatif')\n",
        "plt.axis('off')\n",
        "plt.show()\n",
        "\n",
        "plt.figure(figsize=(8, 4))\n",
        "plt.imshow(wordcloud_positive, interpolation='bilinear')\n",
        "plt.title('Wordcloud - Sentimen Positif')\n",
        "plt.axis('off')\n",
        "plt.show()"
      ],
      "metadata": {
        "execution": {
          "iopub.status.busy": "2023-08-07T04:14:03.155825Z",
          "iopub.execute_input": "2023-08-07T04:14:03.15648Z",
          "iopub.status.idle": "2023-08-07T04:14:06.046804Z",
          "shell.execute_reply.started": "2023-08-07T04:14:03.156448Z",
          "shell.execute_reply": "2023-08-07T04:14:06.045741Z"
        },
        "trusted": true,
        "id": "mz4QGkaX9d0J"
      },
      "execution_count": null,
      "outputs": []
    },
    {
      "cell_type": "markdown",
      "source": [
        "Dari visualisasi diatas merupakan wordcloud kata yang paling banyak muncul pada isi komentar yang memiliki label sentimen negatif. Kata yang paling sering muncul dan mengarah ke ulasan negatif membahas seputar : beli, subsidi, kendaraan, banyak dan sebagainya. Sehingga dari kata-kata ini bisa menjadi masukan untuk kebijakan \"Intensif Mobil Listrik\" untuk memeperhatikan kebutuhan masayarakat (subsidi, dan kendaraan), harga beli, dan lainnya."
      ],
      "metadata": {
        "id": "fkdyzvic9d0J"
      }
    },
    {
      "cell_type": "markdown",
      "source": [
        "Dari visualisasi diatas merupakan wordcloud kata yang paling banyak muncul pada isi komentar yang memiliki label sentimen positif. Kata yang paling sering muncul dan mengarah ke ulasan positif membahas seputar : subsidi, harga, ev, mahal dan sebagainya."
      ],
      "metadata": {
        "id": "UX7QSS4Z9d0J"
      }
    },
    {
      "cell_type": "markdown",
      "source": [
        "# Menyiapkan Data"
      ],
      "metadata": {
        "id": "TeCvqjo59d0J"
      }
    },
    {
      "cell_type": "code",
      "source": [
        "COL = 'text_cleaning'"
      ],
      "metadata": {
        "execution": {
          "iopub.status.busy": "2023-08-07T04:14:06.048033Z",
          "iopub.execute_input": "2023-08-07T04:14:06.048319Z",
          "iopub.status.idle": "2023-08-07T04:14:06.054246Z",
          "shell.execute_reply.started": "2023-08-07T04:14:06.048292Z",
          "shell.execute_reply": "2023-08-07T04:14:06.052848Z"
        },
        "trusted": true,
        "id": "MnasjCiE9d0J"
      },
      "execution_count": null,
      "outputs": []
    },
    {
      "cell_type": "code",
      "source": [
        "print(COL)\n",
        "df.shape"
      ],
      "metadata": {
        "execution": {
          "iopub.status.busy": "2023-08-07T04:14:06.055673Z",
          "iopub.execute_input": "2023-08-07T04:14:06.055962Z",
          "iopub.status.idle": "2023-08-07T04:14:06.074142Z",
          "shell.execute_reply.started": "2023-08-07T04:14:06.055936Z",
          "shell.execute_reply": "2023-08-07T04:14:06.072891Z"
        },
        "trusted": true,
        "id": "mqZM6VoJ9d0K"
      },
      "execution_count": null,
      "outputs": []
    },
    {
      "cell_type": "code",
      "source": [
        "df.head()"
      ],
      "metadata": {
        "execution": {
          "iopub.status.busy": "2023-08-07T04:14:06.075795Z",
          "iopub.execute_input": "2023-08-07T04:14:06.076118Z",
          "iopub.status.idle": "2023-08-07T04:14:06.092975Z",
          "shell.execute_reply.started": "2023-08-07T04:14:06.076092Z",
          "shell.execute_reply": "2023-08-07T04:14:06.092091Z"
        },
        "trusted": true,
        "id": "jPJaILAw9d0K"
      },
      "execution_count": null,
      "outputs": []
    },
    {
      "cell_type": "code",
      "source": [
        "# Membuat mapping untuk encoding\n",
        "sentimen_mapping = {\"negatif\": -1, \"netral\": 0, \"positif\": 1}\n",
        "\n",
        "# Melakukan encoding pada kolom \"sentimen\"\n",
        "df[\"sentimen_encoded\"] = df[\"sentimen\"].map(sentimen_mapping)"
      ],
      "metadata": {
        "execution": {
          "iopub.status.busy": "2023-08-07T04:14:06.093935Z",
          "iopub.execute_input": "2023-08-07T04:14:06.094291Z",
          "iopub.status.idle": "2023-08-07T04:14:06.103009Z",
          "shell.execute_reply.started": "2023-08-07T04:14:06.094262Z",
          "shell.execute_reply": "2023-08-07T04:14:06.101521Z"
        },
        "trusted": true,
        "id": "9HhXW1iV9d0K"
      },
      "execution_count": null,
      "outputs": []
    },
    {
      "cell_type": "markdown",
      "source": [
        "# TF-IDF"
      ],
      "metadata": {
        "id": "uokqH36p9d0K"
      }
    },
    {
      "cell_type": "code",
      "source": [
        "from sklearn.feature_extraction.text import TfidfVectorizer"
      ],
      "metadata": {
        "execution": {
          "iopub.status.busy": "2023-08-07T04:14:06.10797Z",
          "iopub.execute_input": "2023-08-07T04:14:06.108327Z",
          "iopub.status.idle": "2023-08-07T04:14:06.529813Z",
          "shell.execute_reply.started": "2023-08-07T04:14:06.108295Z",
          "shell.execute_reply": "2023-08-07T04:14:06.528543Z"
        },
        "trusted": true,
        "id": "CZxNrqCz9d0K"
      },
      "execution_count": null,
      "outputs": []
    },
    {
      "cell_type": "code",
      "source": [
        "tfidf = TfidfVectorizer(min_df=3, max_df=0.5, ngram_range=(1, 1))\n",
        "features = tfidf.fit_transform(df[COL].values)\n",
        "dfuni = pd.DataFrame(features.todense(), columns=tfidf.get_feature_names_out())"
      ],
      "metadata": {
        "execution": {
          "iopub.status.busy": "2023-08-07T04:14:06.531446Z",
          "iopub.execute_input": "2023-08-07T04:14:06.531777Z",
          "iopub.status.idle": "2023-08-07T04:14:06.571389Z",
          "shell.execute_reply.started": "2023-08-07T04:14:06.531752Z",
          "shell.execute_reply": "2023-08-07T04:14:06.570109Z"
        },
        "trusted": true,
        "id": "MBv1SgZ49d0K"
      },
      "execution_count": null,
      "outputs": []
    },
    {
      "cell_type": "code",
      "source": [
        "print(dfuni.shape)"
      ],
      "metadata": {
        "execution": {
          "iopub.status.busy": "2023-08-07T04:14:06.572802Z",
          "iopub.execute_input": "2023-08-07T04:14:06.573103Z",
          "iopub.status.idle": "2023-08-07T04:14:06.579867Z",
          "shell.execute_reply.started": "2023-08-07T04:14:06.57308Z",
          "shell.execute_reply": "2023-08-07T04:14:06.578638Z"
        },
        "trusted": true,
        "id": "Ri-F_1JF9d0K"
      },
      "execution_count": null,
      "outputs": []
    },
    {
      "cell_type": "code",
      "source": [
        "dfuni.head()"
      ],
      "metadata": {
        "execution": {
          "iopub.status.busy": "2023-08-07T04:14:06.581042Z",
          "iopub.execute_input": "2023-08-07T04:14:06.581261Z",
          "iopub.status.idle": "2023-08-07T04:14:06.612181Z",
          "shell.execute_reply.started": "2023-08-07T04:14:06.581241Z",
          "shell.execute_reply": "2023-08-07T04:14:06.611273Z"
        },
        "trusted": true,
        "id": "sIlCymfk9d0K"
      },
      "execution_count": null,
      "outputs": []
    },
    {
      "cell_type": "markdown",
      "source": [
        "# Split Data"
      ],
      "metadata": {
        "id": "rxDxCBkn9d0K"
      }
    },
    {
      "cell_type": "code",
      "source": [
        "from sklearn.model_selection import train_test_split, cross_val_score\n",
        "from sklearn import tree, metrics\n",
        "from sklearn.metrics import classification_report"
      ],
      "metadata": {
        "execution": {
          "iopub.status.busy": "2023-08-07T04:14:06.613252Z",
          "iopub.execute_input": "2023-08-07T04:14:06.614549Z",
          "iopub.status.idle": "2023-08-07T04:14:06.672687Z",
          "shell.execute_reply.started": "2023-08-07T04:14:06.614522Z",
          "shell.execute_reply": "2023-08-07T04:14:06.671669Z"
        },
        "trusted": true,
        "id": "Wh9jDYtP9d0K"
      },
      "execution_count": null,
      "outputs": []
    },
    {
      "cell_type": "code",
      "source": [
        "dfuni['y'] = df['sentimen_encoded']"
      ],
      "metadata": {
        "execution": {
          "iopub.status.busy": "2023-08-07T04:14:06.674102Z",
          "iopub.execute_input": "2023-08-07T04:14:06.674466Z",
          "iopub.status.idle": "2023-08-07T04:14:06.681082Z",
          "shell.execute_reply.started": "2023-08-07T04:14:06.674437Z",
          "shell.execute_reply": "2023-08-07T04:14:06.679639Z"
        },
        "trusted": true,
        "id": "E84yhJy-9d0L"
      },
      "execution_count": null,
      "outputs": []
    },
    {
      "cell_type": "code",
      "source": [
        "X_train, X_test, y_train, y_test = train_test_split(dfuni.drop(['y'], axis=1), dfuni[['y']], test_size=0.30, random_state=555)"
      ],
      "metadata": {
        "execution": {
          "iopub.status.busy": "2023-08-07T04:14:06.682205Z",
          "iopub.execute_input": "2023-08-07T04:14:06.682477Z",
          "iopub.status.idle": "2023-08-07T04:14:06.705191Z",
          "shell.execute_reply.started": "2023-08-07T04:14:06.682455Z",
          "shell.execute_reply": "2023-08-07T04:14:06.704078Z"
        },
        "trusted": true,
        "id": "Tnwr-xfj9d0L"
      },
      "execution_count": null,
      "outputs": []
    },
    {
      "cell_type": "markdown",
      "source": [
        "Pada proses ini akan digunakan library sklearn.model_selection dengan modul train_test _split untuk membagi data latih (X_train dan y_train) dan data uji (X_test dan y_test) dengan persentasi data latih 70% dan data uji 30% serta memilih label data yaitu yang merupakan variable independen dari data yaitu kolom sentimen untuk dijadikan parameter klasifikasi prediksi."
      ],
      "metadata": {
        "id": "XnkaPKoS9d0L"
      }
    },
    {
      "cell_type": "code",
      "source": [
        "dfunitrain = X_train.join(y_train)\n",
        "dfunitest = X_test.join(y_test)"
      ],
      "metadata": {
        "execution": {
          "iopub.status.busy": "2023-08-07T04:14:06.706477Z",
          "iopub.execute_input": "2023-08-07T04:14:06.706759Z",
          "iopub.status.idle": "2023-08-07T04:14:06.728832Z",
          "shell.execute_reply.started": "2023-08-07T04:14:06.706732Z",
          "shell.execute_reply": "2023-08-07T04:14:06.726968Z"
        },
        "trusted": true,
        "id": "9T_byVty9d0L"
      },
      "execution_count": null,
      "outputs": []
    },
    {
      "cell_type": "code",
      "source": [
        "X_unitrain = dfunitrain.drop(['y'], axis=1)\n",
        "y_unitrain = dfunitrain['y']\n",
        "X_unitest = dfunitest.drop(['y'], axis=1)\n",
        "y_unitest = dfunitest['y']"
      ],
      "metadata": {
        "execution": {
          "iopub.status.busy": "2023-08-07T04:14:06.730561Z",
          "iopub.execute_input": "2023-08-07T04:14:06.730962Z",
          "iopub.status.idle": "2023-08-07T04:14:06.745793Z",
          "shell.execute_reply.started": "2023-08-07T04:14:06.730932Z",
          "shell.execute_reply": "2023-08-07T04:14:06.743707Z"
        },
        "trusted": true,
        "id": "sdUqwwQI9d0L"
      },
      "execution_count": null,
      "outputs": []
    },
    {
      "cell_type": "markdown",
      "source": [
        "# SVM"
      ],
      "metadata": {
        "id": "sXnARYNs9d0L"
      }
    },
    {
      "cell_type": "code",
      "source": [
        "from sklearn import svm"
      ],
      "metadata": {
        "execution": {
          "iopub.status.busy": "2023-08-07T04:14:06.747918Z",
          "iopub.execute_input": "2023-08-07T04:14:06.748247Z",
          "iopub.status.idle": "2023-08-07T04:14:06.753947Z",
          "shell.execute_reply.started": "2023-08-07T04:14:06.748222Z",
          "shell.execute_reply": "2023-08-07T04:14:06.752566Z"
        },
        "trusted": true,
        "id": "OeFb-H_x9d0L"
      },
      "execution_count": null,
      "outputs": []
    },
    {
      "cell_type": "code",
      "source": [
        "clf = svm.SVC(max_iter=-1,\n",
        "            C=1000,\n",
        "#             gamma=0.01,\n",
        "            kernel='rbf')\n",
        "# clf = svm.NuSVC(kernel='poly')\n",
        "clf.fit(X_unitrain, y_unitrain.values.ravel())\n",
        "y_unipred = clf.predict(X_unitest)\n",
        "print(clf.score(X_unitest, y_unitest))\n",
        "print(metrics.classification_report(y_unitest, y_unipred, digits=3))"
      ],
      "metadata": {
        "execution": {
          "iopub.status.busy": "2023-08-07T04:14:06.75482Z",
          "iopub.execute_input": "2023-08-07T04:14:06.755067Z",
          "iopub.status.idle": "2023-08-07T04:14:07.635193Z",
          "shell.execute_reply.started": "2023-08-07T04:14:06.755047Z",
          "shell.execute_reply": "2023-08-07T04:14:07.634049Z"
        },
        "trusted": true,
        "id": "OwtbEj139d0L"
      },
      "execution_count": null,
      "outputs": []
    },
    {
      "cell_type": "markdown",
      "source": [
        "Berdasarkan output tersebut, model SVM memiliki akurasi prediksi sebesar 78% untuk kasus \"Analisis Sentimen Terkait Intensif Mobil Listrik\" menggunakan data komentar pada platform Youtube"
      ],
      "metadata": {
        "id": "_Gi-0ObQ9d0L"
      }
    },
    {
      "cell_type": "markdown",
      "source": [
        "Author:BILIARTO SASTRO CEMERSON\n",
        "\n",
        "https://www.kaggle.com/code/billycemerson/analisis-sentimen-intensif-mobil-listrik-svm#Split-Data"
      ],
      "metadata": {
        "id": "amqG1JEQ9kpK"
      }
    }
  ]
}